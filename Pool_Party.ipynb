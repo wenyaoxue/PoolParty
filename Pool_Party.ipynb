{
  "cells": [
    {
      "cell_type": "markdown",
      "metadata": {
        "id": "vWmc_s2ezvU0"
      },
      "source": [
        "# Run streamlit app from a Google Colab Notebook\n",
        "> Adapted from https://medium.com/@jcharistech/how-to-run-streamlit-apps-from-colab-29b969a1bdfc"
      ]
    },
    {
      "cell_type": "code",
      "execution_count": null,
      "metadata": {
        "colab": {
          "base_uri": "https://localhost:8080/"
        },
        "id": "RvlYkCQ9vFiy",
        "outputId": "91e86125-a80a-41a1-a776-7841c7b6bf7d"
      },
      "outputs": [
        {
          "name": "stdout",
          "output_type": "stream",
          "text": [
            "\u001b[2K     \u001b[90m━━━━━━━━━━━━━━━━━━━━━━━━━━━━━━━━━━━━━━━━\u001b[0m \u001b[32m9.2/9.2 MB\u001b[0m \u001b[31m26.5 MB/s\u001b[0m eta \u001b[36m0:00:00\u001b[0m\n",
            "\u001b[2K     \u001b[90m━━━━━━━━━━━━━━━━━━━━━━━━━━━━━━━━━━━━━━\u001b[0m \u001b[32m238.1/238.1 KB\u001b[0m \u001b[31m12.1 MB/s\u001b[0m eta \u001b[36m0:00:00\u001b[0m\n",
            "\u001b[2K     \u001b[90m━━━━━━━━━━━━━━━━━━━━━━━━━━━━━━━━━━━━━━━\u001b[0m \u001b[32m184.0/184.0 KB\u001b[0m \u001b[31m8.9 MB/s\u001b[0m eta \u001b[36m0:00:00\u001b[0m\n",
            "\u001b[2K     \u001b[90m━━━━━━━━━━━━━━━━━━━━━━━━━━━━━━━━━━━━━━━━\u001b[0m \u001b[32m79.0/79.0 KB\u001b[0m \u001b[31m6.5 MB/s\u001b[0m eta \u001b[36m0:00:00\u001b[0m\n",
            "\u001b[?25h  Preparing metadata (setup.py) ... \u001b[?25l\u001b[?25hdone\n",
            "\u001b[2K     \u001b[90m━━━━━━━━━━━━━━━━━━━━━━━━━━━━━━━━━━━━━━━━\u001b[0m \u001b[32m4.7/4.7 MB\u001b[0m \u001b[31m39.7 MB/s\u001b[0m eta \u001b[36m0:00:00\u001b[0m\n",
            "\u001b[2K     \u001b[90m━━━━━━━━━━━━━━━━━━━━━━━━━━━━━━━━━━━━━━\u001b[0m \u001b[32m164.8/164.8 KB\u001b[0m \u001b[31m12.8 MB/s\u001b[0m eta \u001b[36m0:00:00\u001b[0m\n",
            "\u001b[2K     \u001b[90m━━━━━━━━━━━━━━━━━━━━━━━━━━━━━━━━━━━━━━━━\u001b[0m \u001b[32m62.7/62.7 KB\u001b[0m \u001b[31m5.9 MB/s\u001b[0m eta \u001b[36m0:00:00\u001b[0m\n",
            "\u001b[2K     \u001b[90m━━━━━━━━━━━━━━━━━━━━━━━━━━━━━━━━━━━━━━━━\u001b[0m \u001b[32m51.1/51.1 KB\u001b[0m \u001b[31m4.4 MB/s\u001b[0m eta \u001b[36m0:00:00\u001b[0m\n",
            "\u001b[?25h  Building wheel for validators (setup.py) ... \u001b[?25l\u001b[?25hdone\n",
            "\u001b[2K     \u001b[90m━━━━━━━━━━━━━━━━━━━━━━━━━━━━━━━━━━━━━━━\u001b[0m \u001b[32m761.3/761.3 KB\u001b[0m \u001b[31m8.8 MB/s\u001b[0m eta \u001b[36m0:00:00\u001b[0m\n",
            "\u001b[?25h  Preparing metadata (setup.py) ... \u001b[?25l\u001b[?25hdone\n",
            "  Building wheel for pyngrok (setup.py) ... \u001b[?25l\u001b[?25hdone\n"
          ]
        }
      ],
      "source": [
        "!pip install -q streamlit\n",
        "!pip install -q pyngrok"
      ]
    },
    {
      "cell_type": "code",
      "execution_count": null,
      "metadata": {
        "colab": {
          "base_uri": "https://localhost:8080/"
        },
        "id": "F_WsqUQcPVuC",
        "outputId": "e1f259eb-dd37-468e-cb1b-074d89d13098"
      },
      "outputs": [
        {
          "name": "stdout",
          "output_type": "stream",
          "text": [
            "Authtoken saved to configuration file: /root/.ngrok2/ngrok.yml\n"
          ]
        }
      ],
      "source": [
        "# Authenticate the NGROK\n",
        "!pip install -q pyngrok\n",
        "!ngrok authtoken 2IYm3NhniVMUdjkxMZDIyzpRAqG_4E9dB8DetNRd9yWv3vt12"
      ]
    },
    {
      "cell_type": "markdown",
      "metadata": {
        "id": "uzvl_5Cv8HeX"
      },
      "source": [
        "Reset the execution environment after streamlit installation"
      ]
    },
    {
      "cell_type": "markdown",
      "metadata": {
        "id": "encqGJ4u0FYG"
      },
      "source": [
        "## Create file called app.py"
      ]
    },
    {
      "cell_type": "code",
      "execution_count": null,
      "metadata": {
        "id": "kVa2mKBi--kc"
      },
      "outputs": [],
      "source": [
        "# Install the SQLAlchemy library if it is not installed\n",
        "!sudo apt-get install python3-dev libmysqlclient-dev > /dev/null\n",
        "!pip install mysqlclient > /dev/null\n",
        "!sudo pip3 install -U sql_magic > /dev/null\n",
        "!pip install psycopg2-binary > /dev/null"
      ]
    },
    {
      "cell_type": "code",
      "execution_count": null,
      "metadata": {
        "colab": {
          "base_uri": "https://localhost:8080/"
        },
        "id": "PdYp1NCYIlgY",
        "outputId": "34db9c20-ef57-42f9-ad4d-3ad0ad15f870"
      },
      "outputs": [
        {
          "name": "stdout",
          "output_type": "stream",
          "text": [
            "Looking in indexes: https://pypi.org/simple, https://us-python.pkg.dev/colab-wheels/public/simple/\n",
            "Collecting streamlit-folium\n",
            "  Downloading streamlit_folium-0.10.0-py3-none-any.whl (422 kB)\n",
            "\u001b[2K     \u001b[90m━━━━━━━━━━━━━━━━━━━━━━━━━━━━━━━━━━━━━━━\u001b[0m \u001b[32m422.8/422.8 KB\u001b[0m \u001b[31m8.3 MB/s\u001b[0m eta \u001b[36m0:00:00\u001b[0m\n",
            "\u001b[?25hRequirement already satisfied: branca in /usr/local/lib/python3.8/dist-packages (from streamlit-folium) (0.6.0)\n",
            "Requirement already satisfied: jinja2 in /usr/local/lib/python3.8/dist-packages (from streamlit-folium) (2.11.3)\n",
            "Collecting folium>=0.13\n",
            "  Downloading folium-0.14.0-py2.py3-none-any.whl (102 kB)\n",
            "\u001b[2K     \u001b[90m━━━━━━━━━━━━━━━━━━━━━━━━━━━━━━━━━━━━━━\u001b[0m \u001b[32m102.3/102.3 KB\u001b[0m \u001b[31m10.5 MB/s\u001b[0m eta \u001b[36m0:00:00\u001b[0m\n",
            "\u001b[?25hRequirement already satisfied: streamlit>=1.2 in /usr/local/lib/python3.8/dist-packages (from streamlit-folium) (1.16.0)\n",
            "Requirement already satisfied: numpy in /usr/local/lib/python3.8/dist-packages (from folium>=0.13->streamlit-folium) (1.21.6)\n",
            "Requirement already satisfied: requests in /usr/local/lib/python3.8/dist-packages (from folium>=0.13->streamlit-folium) (2.25.1)\n",
            "Requirement already satisfied: MarkupSafe>=0.23 in /usr/local/lib/python3.8/dist-packages (from jinja2->streamlit-folium) (2.0.1)\n",
            "Requirement already satisfied: toml in /usr/local/lib/python3.8/dist-packages (from streamlit>=1.2->streamlit-folium) (0.10.2)\n",
            "Requirement already satisfied: pillow>=6.2.0 in /usr/local/lib/python3.8/dist-packages (from streamlit>=1.2->streamlit-folium) (7.1.2)\n",
            "Requirement already satisfied: click>=7.0 in /usr/local/lib/python3.8/dist-packages (from streamlit>=1.2->streamlit-folium) (7.1.2)\n",
            "Requirement already satisfied: semver in /usr/local/lib/python3.8/dist-packages (from streamlit>=1.2->streamlit-folium) (2.13.0)\n",
            "Requirement already satisfied: pydeck>=0.1.dev5 in /usr/local/lib/python3.8/dist-packages (from streamlit>=1.2->streamlit-folium) (0.8.0)\n",
            "Requirement already satisfied: rich>=10.11.0 in /usr/local/lib/python3.8/dist-packages (from streamlit>=1.2->streamlit-folium) (13.0.1)\n",
            "Requirement already satisfied: protobuf<4,>=3.12 in /usr/local/lib/python3.8/dist-packages (from streamlit>=1.2->streamlit-folium) (3.19.6)\n",
            "Requirement already satisfied: python-dateutil in /usr/local/lib/python3.8/dist-packages (from streamlit>=1.2->streamlit-folium) (2.8.2)\n",
            "Requirement already satisfied: gitpython!=3.1.19 in /usr/local/lib/python3.8/dist-packages (from streamlit>=1.2->streamlit-folium) (3.1.30)\n",
            "Requirement already satisfied: altair>=3.2.0 in /usr/local/lib/python3.8/dist-packages (from streamlit>=1.2->streamlit-folium) (4.2.0)\n",
            "Requirement already satisfied: tzlocal>=1.1 in /usr/local/lib/python3.8/dist-packages (from streamlit>=1.2->streamlit-folium) (1.5.1)\n",
            "Requirement already satisfied: validators>=0.2 in /usr/local/lib/python3.8/dist-packages (from streamlit>=1.2->streamlit-folium) (0.20.0)\n",
            "Requirement already satisfied: blinker>=1.0.0 in /usr/local/lib/python3.8/dist-packages (from streamlit>=1.2->streamlit-folium) (1.5)\n",
            "Requirement already satisfied: pyarrow>=4.0 in /usr/local/lib/python3.8/dist-packages (from streamlit>=1.2->streamlit-folium) (9.0.0)\n",
            "Requirement already satisfied: packaging>=14.1 in /usr/local/lib/python3.8/dist-packages (from streamlit>=1.2->streamlit-folium) (21.3)\n",
            "Requirement already satisfied: tornado>=5.0 in /usr/local/lib/python3.8/dist-packages (from streamlit>=1.2->streamlit-folium) (6.0.4)\n",
            "Requirement already satisfied: watchdog in /usr/local/lib/python3.8/dist-packages (from streamlit>=1.2->streamlit-folium) (2.2.1)\n",
            "Requirement already satisfied: typing-extensions>=3.10.0.0 in /usr/local/lib/python3.8/dist-packages (from streamlit>=1.2->streamlit-folium) (4.4.0)\n",
            "Requirement already satisfied: pympler>=0.9 in /usr/local/lib/python3.8/dist-packages (from streamlit>=1.2->streamlit-folium) (1.0.1)\n",
            "Requirement already satisfied: cachetools>=4.0 in /usr/local/lib/python3.8/dist-packages (from streamlit>=1.2->streamlit-folium) (5.2.0)\n",
            "Requirement already satisfied: pandas>=0.21.0 in /usr/local/lib/python3.8/dist-packages (from streamlit>=1.2->streamlit-folium) (1.3.5)\n",
            "Requirement already satisfied: importlib-metadata>=1.4 in /usr/local/lib/python3.8/dist-packages (from streamlit>=1.2->streamlit-folium) (6.0.0)\n",
            "Requirement already satisfied: entrypoints in /usr/local/lib/python3.8/dist-packages (from altair>=3.2.0->streamlit>=1.2->streamlit-folium) (0.4)\n",
            "Requirement already satisfied: jsonschema>=3.0 in /usr/local/lib/python3.8/dist-packages (from altair>=3.2.0->streamlit>=1.2->streamlit-folium) (4.3.3)\n",
            "Requirement already satisfied: toolz in /usr/local/lib/python3.8/dist-packages (from altair>=3.2.0->streamlit>=1.2->streamlit-folium) (0.12.0)\n",
            "Requirement already satisfied: gitdb<5,>=4.0.1 in /usr/local/lib/python3.8/dist-packages (from gitpython!=3.1.19->streamlit>=1.2->streamlit-folium) (4.0.10)\n",
            "Requirement already satisfied: zipp>=0.5 in /usr/local/lib/python3.8/dist-packages (from importlib-metadata>=1.4->streamlit>=1.2->streamlit-folium) (3.11.0)\n",
            "Requirement already satisfied: pyparsing!=3.0.5,>=2.0.2 in /usr/local/lib/python3.8/dist-packages (from packaging>=14.1->streamlit>=1.2->streamlit-folium) (3.0.9)\n",
            "Requirement already satisfied: pytz>=2017.3 in /usr/local/lib/python3.8/dist-packages (from pandas>=0.21.0->streamlit>=1.2->streamlit-folium) (2022.7)\n",
            "Requirement already satisfied: six>=1.5 in /usr/local/lib/python3.8/dist-packages (from python-dateutil->streamlit>=1.2->streamlit-folium) (1.15.0)\n",
            "Requirement already satisfied: idna<3,>=2.5 in /usr/local/lib/python3.8/dist-packages (from requests->folium>=0.13->streamlit-folium) (2.10)\n",
            "Requirement already satisfied: urllib3<1.27,>=1.21.1 in /usr/local/lib/python3.8/dist-packages (from requests->folium>=0.13->streamlit-folium) (1.24.3)\n",
            "Requirement already satisfied: certifi>=2017.4.17 in /usr/local/lib/python3.8/dist-packages (from requests->folium>=0.13->streamlit-folium) (2022.12.7)\n",
            "Requirement already satisfied: chardet<5,>=3.0.2 in /usr/local/lib/python3.8/dist-packages (from requests->folium>=0.13->streamlit-folium) (4.0.0)\n",
            "Requirement already satisfied: pygments<3.0.0,>=2.6.0 in /usr/local/lib/python3.8/dist-packages (from rich>=10.11.0->streamlit>=1.2->streamlit-folium) (2.6.1)\n",
            "Requirement already satisfied: commonmark<0.10.0,>=0.9.0 in /usr/local/lib/python3.8/dist-packages (from rich>=10.11.0->streamlit>=1.2->streamlit-folium) (0.9.1)\n",
            "Requirement already satisfied: decorator>=3.4.0 in /usr/local/lib/python3.8/dist-packages (from validators>=0.2->streamlit>=1.2->streamlit-folium) (4.4.2)\n",
            "Requirement already satisfied: smmap<6,>=3.0.1 in /usr/local/lib/python3.8/dist-packages (from gitdb<5,>=4.0.1->gitpython!=3.1.19->streamlit>=1.2->streamlit-folium) (5.0.0)\n",
            "Requirement already satisfied: attrs>=17.4.0 in /usr/local/lib/python3.8/dist-packages (from jsonschema>=3.0->altair>=3.2.0->streamlit>=1.2->streamlit-folium) (22.2.0)\n",
            "Requirement already satisfied: pyrsistent!=0.17.0,!=0.17.1,!=0.17.2,>=0.14.0 in /usr/local/lib/python3.8/dist-packages (from jsonschema>=3.0->altair>=3.2.0->streamlit>=1.2->streamlit-folium) (0.19.3)\n",
            "Requirement already satisfied: importlib-resources>=1.4.0 in /usr/local/lib/python3.8/dist-packages (from jsonschema>=3.0->altair>=3.2.0->streamlit>=1.2->streamlit-folium) (5.10.2)\n",
            "Installing collected packages: folium, streamlit-folium\n",
            "  Attempting uninstall: folium\n",
            "    Found existing installation: folium 0.12.1.post1\n",
            "    Uninstalling folium-0.12.1.post1:\n",
            "      Successfully uninstalled folium-0.12.1.post1\n",
            "Successfully installed folium-0.14.0 streamlit-folium-0.10.0\n"
          ]
        }
      ],
      "source": [
        "!pip install streamlit-folium"
      ]
    },
    {
      "cell_type": "code",
      "execution_count": null,
      "metadata": {
        "colab": {
          "base_uri": "https://localhost:8080/"
        },
        "id": "panUhjWYZwRO",
        "outputId": "d57a3a36-dbf2-48f9-b708-c128aa83ce1b"
      },
      "outputs": [
        {
          "name": "stdout",
          "output_type": "stream",
          "text": [
            "Looking in indexes: https://pypi.org/simple, https://us-python.pkg.dev/colab-wheels/public/simple/\n",
            "Collecting PyPDF2\n",
            "  Downloading pypdf2-3.0.1-py3-none-any.whl (232 kB)\n",
            "\u001b[2K     \u001b[90m━━━━━━━━━━━━━━━━━━━━━━━━━━━━━━━━━━━━━━━\u001b[0m \u001b[32m232.6/232.6 KB\u001b[0m \u001b[31m6.0 MB/s\u001b[0m eta \u001b[36m0:00:00\u001b[0m\n",
            "\u001b[?25hRequirement already satisfied: typing_extensions>=3.10.0.0 in /usr/local/lib/python3.8/dist-packages (from PyPDF2) (4.4.0)\n",
            "Installing collected packages: PyPDF2\n",
            "Successfully installed PyPDF2-3.0.1\n",
            "/usr/local/lib/python3.8/dist-packages/torch/cuda/__init__.py:497: UserWarning: Can't initialize NVML\n",
            "  warnings.warn(\"Can't initialize NVML\")\n",
            "2023-01-11 03:46:02.498163: E tensorflow/stream_executor/cuda/cuda_driver.cc:271] failed call to cuInit: CUDA_ERROR_NO_DEVICE: no CUDA-capable device is detected\n",
            "Looking in indexes: https://pypi.org/simple, https://us-python.pkg.dev/colab-wheels/public/simple/\n",
            "Collecting en-core-web-md==3.4.1\n",
            "  Downloading https://github.com/explosion/spacy-models/releases/download/en_core_web_md-3.4.1/en_core_web_md-3.4.1-py3-none-any.whl (42.8 MB)\n",
            "\u001b[2K     \u001b[90m━━━━━━━━━━━━━━━━━━━━━━━━━━━━━━━━━━━━━━━━\u001b[0m \u001b[32m42.8/42.8 MB\u001b[0m \u001b[31m16.9 MB/s\u001b[0m eta \u001b[36m0:00:00\u001b[0m\n",
            "\u001b[?25hRequirement already satisfied: spacy<3.5.0,>=3.4.0 in /usr/local/lib/python3.8/dist-packages (from en-core-web-md==3.4.1) (3.4.4)\n",
            "Requirement already satisfied: catalogue<2.1.0,>=2.0.6 in /usr/local/lib/python3.8/dist-packages (from spacy<3.5.0,>=3.4.0->en-core-web-md==3.4.1) (2.0.8)\n",
            "Requirement already satisfied: murmurhash<1.1.0,>=0.28.0 in /usr/local/lib/python3.8/dist-packages (from spacy<3.5.0,>=3.4.0->en-core-web-md==3.4.1) (1.0.9)\n",
            "Requirement already satisfied: langcodes<4.0.0,>=3.2.0 in /usr/local/lib/python3.8/dist-packages (from spacy<3.5.0,>=3.4.0->en-core-web-md==3.4.1) (3.3.0)\n",
            "Requirement already satisfied: setuptools in /usr/local/lib/python3.8/dist-packages (from spacy<3.5.0,>=3.4.0->en-core-web-md==3.4.1) (57.4.0)\n",
            "Requirement already satisfied: cymem<2.1.0,>=2.0.2 in /usr/local/lib/python3.8/dist-packages (from spacy<3.5.0,>=3.4.0->en-core-web-md==3.4.1) (2.0.7)\n",
            "Requirement already satisfied: jinja2 in /usr/local/lib/python3.8/dist-packages (from spacy<3.5.0,>=3.4.0->en-core-web-md==3.4.1) (2.11.3)\n",
            "Requirement already satisfied: preshed<3.1.0,>=3.0.2 in /usr/local/lib/python3.8/dist-packages (from spacy<3.5.0,>=3.4.0->en-core-web-md==3.4.1) (3.0.8)\n",
            "Requirement already satisfied: numpy>=1.15.0 in /usr/local/lib/python3.8/dist-packages (from spacy<3.5.0,>=3.4.0->en-core-web-md==3.4.1) (1.21.6)\n",
            "Requirement already satisfied: wasabi<1.1.0,>=0.9.1 in /usr/local/lib/python3.8/dist-packages (from spacy<3.5.0,>=3.4.0->en-core-web-md==3.4.1) (0.10.1)\n",
            "Requirement already satisfied: smart-open<7.0.0,>=5.2.1 in /usr/local/lib/python3.8/dist-packages (from spacy<3.5.0,>=3.4.0->en-core-web-md==3.4.1) (6.3.0)\n",
            "Requirement already satisfied: packaging>=20.0 in /usr/local/lib/python3.8/dist-packages (from spacy<3.5.0,>=3.4.0->en-core-web-md==3.4.1) (21.3)\n",
            "Requirement already satisfied: thinc<8.2.0,>=8.1.0 in /usr/local/lib/python3.8/dist-packages (from spacy<3.5.0,>=3.4.0->en-core-web-md==3.4.1) (8.1.6)\n",
            "Requirement already satisfied: pathy>=0.3.5 in /usr/local/lib/python3.8/dist-packages (from spacy<3.5.0,>=3.4.0->en-core-web-md==3.4.1) (0.10.1)\n",
            "Requirement already satisfied: pydantic!=1.8,!=1.8.1,<1.11.0,>=1.7.4 in /usr/local/lib/python3.8/dist-packages (from spacy<3.5.0,>=3.4.0->en-core-web-md==3.4.1) (1.10.4)\n",
            "Requirement already satisfied: typer<0.8.0,>=0.3.0 in /usr/local/lib/python3.8/dist-packages (from spacy<3.5.0,>=3.4.0->en-core-web-md==3.4.1) (0.7.0)\n",
            "Requirement already satisfied: tqdm<5.0.0,>=4.38.0 in /usr/local/lib/python3.8/dist-packages (from spacy<3.5.0,>=3.4.0->en-core-web-md==3.4.1) (4.64.1)\n",
            "Requirement already satisfied: srsly<3.0.0,>=2.4.3 in /usr/local/lib/python3.8/dist-packages (from spacy<3.5.0,>=3.4.0->en-core-web-md==3.4.1) (2.4.5)\n",
            "Requirement already satisfied: requests<3.0.0,>=2.13.0 in /usr/local/lib/python3.8/dist-packages (from spacy<3.5.0,>=3.4.0->en-core-web-md==3.4.1) (2.25.1)\n",
            "Requirement already satisfied: spacy-legacy<3.1.0,>=3.0.10 in /usr/local/lib/python3.8/dist-packages (from spacy<3.5.0,>=3.4.0->en-core-web-md==3.4.1) (3.0.11)\n",
            "Requirement already satisfied: spacy-loggers<2.0.0,>=1.0.0 in /usr/local/lib/python3.8/dist-packages (from spacy<3.5.0,>=3.4.0->en-core-web-md==3.4.1) (1.0.4)\n",
            "Requirement already satisfied: pyparsing!=3.0.5,>=2.0.2 in /usr/local/lib/python3.8/dist-packages (from packaging>=20.0->spacy<3.5.0,>=3.4.0->en-core-web-md==3.4.1) (3.0.9)\n",
            "Requirement already satisfied: typing-extensions>=4.2.0 in /usr/local/lib/python3.8/dist-packages (from pydantic!=1.8,!=1.8.1,<1.11.0,>=1.7.4->spacy<3.5.0,>=3.4.0->en-core-web-md==3.4.1) (4.4.0)\n",
            "Requirement already satisfied: urllib3<1.27,>=1.21.1 in /usr/local/lib/python3.8/dist-packages (from requests<3.0.0,>=2.13.0->spacy<3.5.0,>=3.4.0->en-core-web-md==3.4.1) (1.24.3)\n",
            "Requirement already satisfied: certifi>=2017.4.17 in /usr/local/lib/python3.8/dist-packages (from requests<3.0.0,>=2.13.0->spacy<3.5.0,>=3.4.0->en-core-web-md==3.4.1) (2022.12.7)\n",
            "Requirement already satisfied: chardet<5,>=3.0.2 in /usr/local/lib/python3.8/dist-packages (from requests<3.0.0,>=2.13.0->spacy<3.5.0,>=3.4.0->en-core-web-md==3.4.1) (4.0.0)\n",
            "Requirement already satisfied: idna<3,>=2.5 in /usr/local/lib/python3.8/dist-packages (from requests<3.0.0,>=2.13.0->spacy<3.5.0,>=3.4.0->en-core-web-md==3.4.1) (2.10)\n",
            "Requirement already satisfied: blis<0.8.0,>=0.7.8 in /usr/local/lib/python3.8/dist-packages (from thinc<8.2.0,>=8.1.0->spacy<3.5.0,>=3.4.0->en-core-web-md==3.4.1) (0.7.9)\n",
            "Requirement already satisfied: confection<1.0.0,>=0.0.1 in /usr/local/lib/python3.8/dist-packages (from thinc<8.2.0,>=8.1.0->spacy<3.5.0,>=3.4.0->en-core-web-md==3.4.1) (0.0.3)\n",
            "Requirement already satisfied: click<9.0.0,>=7.1.1 in /usr/local/lib/python3.8/dist-packages (from typer<0.8.0,>=0.3.0->spacy<3.5.0,>=3.4.0->en-core-web-md==3.4.1) (7.1.2)\n",
            "Requirement already satisfied: MarkupSafe>=0.23 in /usr/local/lib/python3.8/dist-packages (from jinja2->spacy<3.5.0,>=3.4.0->en-core-web-md==3.4.1) (2.0.1)\n",
            "Installing collected packages: en-core-web-md\n",
            "Successfully installed en-core-web-md-3.4.1\n",
            "\u001b[38;5;2m✔ Download and installation successful\u001b[0m\n",
            "You can now load the package via spacy.load('en_core_web_md')\n"
          ]
        }
      ],
      "source": [
        "!pip install PyPDF2\n",
        "!python -q -m spacy download en_core_web_md"
      ]
    },
    {
      "cell_type": "code",
      "execution_count": null,
      "metadata": {
        "colab": {
          "base_uri": "https://localhost:8080/"
        },
        "id": "HDTEWlOTtenW",
        "outputId": "1eb2fcd1-fec2-46b0-cea0-38238e8d3928"
      },
      "outputs": [
        {
          "name": "stdout",
          "output_type": "stream",
          "text": [
            "Writing app.py\n"
          ]
        }
      ],
      "source": [
        "%%writefile app.py\n",
        "import streamlit as st\n",
        "from streamlit_folium import st_folium\n",
        "import pandas as pd\n",
        "from cachetools import cached\n",
        "import matplotlib.pyplot as plt\n",
        "import numpy as np\n",
        "import PyPDF2\n",
        "\n",
        "from sqlalchemy import create_engine\n",
        "from map import *\n",
        "import en_core_web_md \n",
        "nlp = en_core_web_md.load()\n",
        "\n",
        "# Connect to the MySQL, but without selecting a database\n",
        "\n",
        "#see appendix!!!!!!!!!!!!!!!!!!!!!!!!!!!!!!!!\n",
        "\n",
        "#storing entire df to refer back to after filtering\n",
        "df = pd.read_sql('SELECT * FROM jobdata', con=engine) # Original dataframe\n",
        "st.session_state['original'] = df\n",
        "\n",
        "#temporary dataframe for filtered results, will start with entire df on intialization\n",
        "if 'df' not in st.session_state:\n",
        "  st.session_state['df'] = df\n",
        " \n",
        "\n",
        "PAGE_CONFIG = {\"page_title\":\"More Examples\",\"page_icon\":\":smiley:\",\"layout\":\"centered\"}\n",
        "st.set_page_config(**PAGE_CONFIG)\n",
        "\n",
        "#running the page\n",
        "def main():\n",
        "\n",
        "    menu = [\"Home\",\"Map View\",\"by State\", \"by Company\"]\n",
        "    choice = st.sidebar.selectbox('Menu',menu)\n",
        "\n",
        "    #default\n",
        "    if choice == 'Home':\n",
        "      \n",
        "      #reset session state df\n",
        "      st.session_state['df'] = st.session_state['original'] \n",
        "\n",
        "      #Title and subheader\n",
        "      st.subheader(\"Home\")\n",
        "      st.title(\"Job Matches\")\n",
        "\n",
        "      #user input for job names\n",
        "      job = st.text_input('Search For Jobs')\n",
        "      st.write(\"Keyword: \" + job)\n",
        "      \n",
        "      #selecting job category\n",
        "      #cat_select = st.selectbox('Job Categories', df['cat'].unique())\n",
        "      #st.write(cat_select)\n",
        "\n",
        "      #resume upload section\n",
        "      resume = st.file_uploader(\"Upload your resume in PDF format\", ['pdf'])\n",
        "\n",
        "      run = st.button('Run Job Matching')\n",
        "      \n",
        "      #scanning resume for text\n",
        "      if resume != None and job != None and run:\n",
        "        df = st.session_state['df']\n",
        "        #scanning resume for text\n",
        "        pdfReader = PyPDF2.PdfFileReader(resume)\n",
        "        pageObj = pdfReader.getPage(0) \n",
        "        resume_str = pageObj.extractText()\n",
        "\n",
        "        #filtering dataframe for titles that contain string job\n",
        "        #encoding filtered entries using nlp\n",
        "        df['title'] = df['title'].str.lower()\n",
        "        returns = df[df['title'].str.contains(job)]\n",
        "        encoded_desc = returns['desc'].apply(nlp)\n",
        "        \n",
        "        #encoding resume using nlp to draw similarity score\n",
        "        encoded_resume = nlp(resume_str)\n",
        "        resume_sim = [encoded_resume.similarity(x) for x in encoded_desc.tolist()]\n",
        "\n",
        "        #appending resume_sim series to dataframe then sorting by similiarty score\n",
        "        #returning first 100 entries after sorting\n",
        "        returns['similarity score'] = resume_sim\n",
        "        st.session_state[\"df\"] = returns.sort_values(by=['similarity score'], ascending = False)\n",
        "\n",
        "\n",
        "        #displaying top 50 (by similiarty score) matches as dataframe\n",
        "        st.write(st.session_state[\"df\"].sort_values(by=['similarity score'], ascending = False).head(50)[['title', 'cat', 'State', 'similarity score']])\n",
        "\n",
        "        # Restart Search\n",
        "        # ADD CODE TO DETECT RESET FUNCTIONALITY\n",
        "        # st.session_state[\"df\"] = st.session_state[\"original_df\"]\n",
        "  \n",
        "    elif choice == 'Map View':\n",
        "      loadMap(st.session_state[\"df\"])\n",
        "        \n",
        "    elif choice == 'by State':\n",
        "      plotValCnt('State', st.session_state[\"df\"], True)\n",
        "    \n",
        "    elif choice == 'by Company':\n",
        "      plotValCnt('comp', st.session_state[\"df\"], False)\n",
        "\n",
        "  \n",
        "\n",
        "#running main        \n",
        "if __name__ == '__main__':\n",
        "    main()"
      ]
    },
    {
      "cell_type": "code",
      "execution_count": null,
      "metadata": {
        "colab": {
          "base_uri": "https://localhost:8080/"
        },
        "id": "UwUbikjzFGGu",
        "outputId": "46cba483-33c1-4619-c271-6cfc1dfb11cc"
      },
      "outputs": [
        {
          "name": "stdout",
          "output_type": "stream",
          "text": [
            "Writing map.py\n"
          ]
        }
      ],
      "source": [
        "%%writefile map.py\n",
        "import math\n",
        "import folium\n",
        "import pandas as pd\n",
        "import matplotlib.pyplot as plt\n",
        "import numpy as np\n",
        "from datetime import datetime\n",
        "from streamlit_folium import st_folium\n",
        "import streamlit as st\n",
        "\n",
        "#wrapper function for either bar or pie type charts, True for chart_type will yield pie chart, False yields bar chart\n",
        "def plotValCnt(col, dataframe, chart_type):\n",
        "  nums = []\n",
        "  names = []\n",
        "  series = dataframe[col].value_counts()\n",
        "  valCntDF = pd.DataFrame(series)\n",
        "  # print(valCntDF.columns)\n",
        "  for i, row in valCntDF.iterrows():\n",
        "    names.append(i)\n",
        "    nums.append(row[0])\n",
        "\n",
        "  # valCntDF = pd.DataFrame({'count': nums},\n",
        "  #                   index=names)\n",
        "  # print(series)\n",
        "  # plot = valCntDF.plot.pie(y='count', figsize=(10, 10))\n",
        "  \n",
        "  if(chart_type):\n",
        "    myPie(nums, names, col)\n",
        "  \n",
        "  else:\n",
        "    myBar(nums, names, col)\n",
        "\n",
        "\n",
        "\n",
        "def myPie(nums, names, col):\n",
        "    #pie chart:\n",
        "  # numbers from https://stackoverflow.com/questions/72338356/how-to-show-values-in-pandas-pie-chart\n",
        "  # labels from https://matplotlib.org/stable/gallery/pie_and_polar_charts/pie_and_donut_labels.html\n",
        "  \n",
        "  fig, ax = plt.subplots(figsize=(32, 8), subplot_kw=dict(aspect=\"equal\"))\n",
        "  wedges, texts, autotexts = ax.pie(nums, autopct=lambda pct: str(int(pct/100.*np.sum(nums))), textprops=dict(color=\"w\"))\n",
        "\n",
        "  bbox_props = dict(boxstyle=\"square,pad=0.3\", fc=\"w\", ec=\"k\", lw=0.72)\n",
        "  kw = dict(arrowprops=dict(arrowstyle=\"-\"),\n",
        "            bbox=bbox_props, zorder=0, va=\"center\")\n",
        "  for i, p in enumerate(wedges):\n",
        "      ang = (p.theta2 - p.theta1)/2. + p.theta1\n",
        "      y = np.sin(np.deg2rad(ang))\n",
        "      x = np.cos(np.deg2rad(ang))\n",
        "      horizontalalignment = {-1: \"right\", 1: \"left\"}[int(np.sign(x))]\n",
        "      connectionstyle = \"angle,angleA=0,angleB={}\".format(ang)\n",
        "      kw[\"arrowprops\"].update({\"connectionstyle\": connectionstyle})\n",
        "      ax.annotate(names[i], xy=(x, y), xytext=(1.35*np.sign(x), 1.4*y),\n",
        "                  horizontalalignment=horizontalalignment, **kw)\n",
        "\n",
        "  # ax.legend(wedges, names,\n",
        "  #           title=\"States\",\n",
        "  #           loc=\"center left\",\n",
        "  #           bbox_to_anchor=(1, 0, 0.5, 1))\n",
        "  plt.setp(autotexts, size=8, weight=\"light\") #weight could be bold\n",
        "  ax.set_title(\"Job Postings Per \" + col)\n",
        "  st.pyplot(plt)\n",
        "\n",
        "def myBar(nums, names, col):\n",
        "  #https://www.geeksforgeeks.org/bar-plot-in-matplotlib/\n",
        "\n",
        "  # Figure Size\n",
        "  fig, ax = plt.subplots(figsize =(16, 9))\n",
        "  # Horizontal Bar Plot\n",
        "  ax.barh(names, nums)\n",
        "\n",
        "  # Remove axes splines\n",
        "  for s in ['top', 'bottom', 'left', 'right']:\n",
        "      ax.spines[s].set_visible(False)\n",
        "  # Remove x, y Ticks\n",
        "  ax.xaxis.set_ticks_position('none')\n",
        "  ax.yaxis.set_ticks_position('none')\n",
        "  \n",
        "  # Show top values\n",
        "  ax.invert_yaxis()\n",
        "  \n",
        "  # Add annotation to bars\n",
        "  for i in ax.patches:\n",
        "      plt.text(i.get_width()+0.2, i.get_y()+0.5,\n",
        "              str(round((i.get_width()), 2)),\n",
        "              fontsize = 8, fontweight ='bold',\n",
        "              color ='grey')\n",
        "  \n",
        "  # Add Plot Title\n",
        "  ax.set_title('Job Postings Per ' + col,\n",
        "              loc ='left', )\n",
        "  \n",
        "  # Show Plot\n",
        "  st.pyplot(plt)\n",
        "\n",
        "def loadMap(filtered_df):\n",
        "  \n",
        "  fmap = folium.Map(location=[40.73, -95], zoom_start=5,  tiles='cartodbpositron')\n",
        "\n",
        "  nonGraphed = []\n",
        "\n",
        "  for name, row in filtered_df.iterrows():\n",
        "      # if row[\"lon\"] > -40:\n",
        "      #   print(row)\n",
        "\n",
        "      opacity = .25\n",
        "      color = \"green\" if row[\"comp\"] == 'Siemens' else (\"pink\" if row[\"comp\"] == 'Lyft' else (\"blue\" if row[\"comp\"] == 'AMR' else (\"orange\" if row[\"comp\"] == \"Amazon Delivery Service Partners\" else \"yellow\")))\n",
        "\n",
        "      size = 10\n",
        "      popupHeight = 300\n",
        "      html = \"\"\"<p style='font-family:sans-serif;font-size:11px'>\"\"\"\n",
        "      for lbl, val in row.iteritems():\n",
        "        if (lbl == \"redURL\"):\n",
        "          html += \"<a href=\"+val+\">redirect url</a> <br>\"\n",
        "        elif not (lbl ==\"index\" or lbl == \"desc\"):\n",
        "          html += \"<strong>\"+lbl+\": </strong>\" + str(val) + \"<br>\"\n",
        "\n",
        "      popup = folium.Popup(folium.IFrame(html=html, width=300, height=popupHeight), max_width=200)\n",
        "\n",
        "      # We create a marker on the map and we add it to the map\n",
        "      if not math.isnan(row[\"lat\"]):\n",
        "        folium.CircleMarker(location=[row[\"lat\"], row[\"lon\"]], \n",
        "                            radius = size,\n",
        "                            color='black', weight=0.5, \n",
        "                            popup = popup,\n",
        "                            fill=True,\n",
        "                            fill_opacity = opacity,\n",
        "                            fill_color = color,\n",
        "                          ).add_to(fmap)\n",
        "      else:\n",
        "        nonGraphed.append(html)\n",
        "\n",
        "  st_data = st_folium(fmap, width = 500)\n",
        "\n"
      ]
    },
    {
      "cell_type": "code",
      "execution_count": null,
      "metadata": {
        "colab": {
          "base_uri": "https://localhost:8080/"
        },
        "id": "S9_ylzVtZ0wV",
        "outputId": "2b87b085-5d4a-4502-f814-5a3bd0df9773"
      },
      "outputs": [
        {
          "data": {
            "text/plain": [
              "<NgrokTunnel: \"http://701a-34-73-17-178.ngrok.io\" -> \"http://localhost:8501\">"
            ]
          },
          "execution_count": 8,
          "metadata": {},
          "output_type": "execute_result"
        }
      ],
      "source": [
        "from pyngrok import ngrok\n",
        "# Setup a tunnel to the streamlit port 8501\n",
        "!streamlit run app.py &>/dev/null &\n",
        "public_url = ngrok.connect(8501)\n",
        "public_url\n",
        "\n",
        "\n",
        "#finance, sales, software"
      ]
    },
    {
      "cell_type": "code",
      "execution_count": null,
      "metadata": {
        "colab": {
          "base_uri": "https://localhost:8080/"
        },
        "id": "20rc74Am31zz",
        "outputId": "aa7f7717-bc96-409e-c8c1-035a96115abd"
      },
      "outputs": [
        {
          "name": "stderr",
          "output_type": "stream",
          "text": [
            "WARNING:pyngrok.process.ngrok:t=2023-01-11T03:43:38+0000 lvl=warn msg=\"failed to open private leg\" id=eed81f611b70 privaddr=localhost:8501 err=\"dial tcp 127.0.0.1:8501: connect: connection refused\"\n",
            "WARNING:pyngrok.process.ngrok:t=2023-01-11T03:43:38+0000 lvl=warn msg=\"failed to open private leg\" id=c181a085ed3d privaddr=localhost:8501 err=\"dial tcp 127.0.0.1:8501: connect: connection refused\"\n",
            "WARNING:pyngrok.process.ngrok:t=2023-01-11T03:43:42+0000 lvl=warn msg=\"failed to open private leg\" id=673d29b79810 privaddr=localhost:8501 err=\"dial tcp 127.0.0.1:8501: connect: connection refused\"\n",
            "WARNING:pyngrok.process.ngrok:t=2023-01-11T03:43:42+0000 lvl=warn msg=\"failed to open private leg\" id=afa6fa8c4f44 privaddr=localhost:8501 err=\"dial tcp 127.0.0.1:8501: connect: connection refused\"\n",
            "WARNING:pyngrok.process.ngrok:t=2023-01-11T03:43:45+0000 lvl=warn msg=\"failed to open private leg\" id=0cbe090551f9 privaddr=localhost:8501 err=\"dial tcp 127.0.0.1:8501: connect: connection refused\"\n",
            "WARNING:pyngrok.process.ngrok:t=2023-01-11T03:43:45+0000 lvl=warn msg=\"failed to open private leg\" id=4f12bda28342 privaddr=localhost:8501 err=\"dial tcp 127.0.0.1:8501: connect: connection refused\"\n"
          ]
        }
      ],
      "source": [
        "input(\"press enter to stop the streamlit app\")\n",
        "# This is to stop the tunnel and streamlit\n",
        "ngrok.kill()\n",
        "!pkill streamlit"
      ]
    },
    {
      "cell_type": "code",
      "execution_count": null,
      "metadata": {
        "id": "h15wOoq29q43"
      },
      "outputs": [],
      "source": [
        "!streamlit run app.py &>/dev/null &"
      ]
    },
    {
      "cell_type": "code",
      "execution_count": null,
      "metadata": {
        "id": "SY6G8JyKVFRF"
      },
      "outputs": [],
      "source": [
        "from pyngrok import ngrok\n",
        "# Setup a tunnel to the streamlit port 8501\n",
        "public_url = ngrok.connect(8501)\n",
        "public_url"
      ]
    },
    {
      "cell_type": "code",
      "execution_count": null,
      "metadata": {
        "id": "G1Zs5kbI35eG"
      },
      "outputs": [],
      "source": [
        "# If ngrok isn't working use this.\n",
        "!npm install localtunnel\n",
        "!npx localtunnel --port 8501"
      ]
    }
  ],
  "metadata": {
    "colab": {
      "provenance": []
    },
    "kernelspec": {
      "display_name": "Python 3",
      "language": "python",
      "name": "python3"
    },
    "language_info": {
      "name": "python",
      "version": "3.10.6 (tags/v3.10.6:9c7b4bd, Aug  1 2022, 21:53:49) [MSC v.1932 64 bit (AMD64)]"
    },
    "vscode": {
      "interpreter": {
        "hash": "53d970a86556b3b75b57460e4eac4375772238c61f02a40a53a6ef2ba5372d6e"
      }
    }
  },
  "nbformat": 4,
  "nbformat_minor": 0
}
